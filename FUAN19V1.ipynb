{
 "cells": [
  {
   "cell_type": "code",
   "execution_count": 1,
   "metadata": {},
   "outputs": [
    {
     "name": "stdout",
     "output_type": "stream",
     "text": [
      "Jupyter environment detected. Enabling Open3D WebVisualizer.\n",
      "[Open3D INFO] WebRTC GUI backend enabled.\n",
      "[Open3D INFO] WebRTCWindowSystem: HTTP handshake server disabled.\n"
     ]
    }
   ],
   "source": [
    "import pydicom\n",
    "import tkinter as tk\n",
    "from tkinter import filedialog\n",
    "import matplotlib.pyplot as plt\n",
    "import numpy as np\n",
    "import cv2  \n",
    "import operator \n",
    "from collections import Counter\n",
    "import open3d as o3d\n",
    "import pyvista as pv\n",
    "from pyvista import examples\n",
    "import pandas as pd\n",
    "import gmsh\n",
    "import time"
   ]
  },
  {
   "cell_type": "code",
   "execution_count": null,
   "metadata": {},
   "outputs": [],
   "source": [
    "def multiplo5(n):\n",
    "    if n%5 == 0:\n",
    "        return True\n",
    "    else:\n",
    "        return False"
   ]
  },
  {
   "cell_type": "code",
   "execution_count": 2,
   "metadata": {},
   "outputs": [],
   "source": [
    "class imagen:\n",
    "    def __init__ (self, slice, time, img, info, dir):\n",
    "        self.slice = slice\n",
    "        self.time = time\n",
    "        self.img = img\n",
    "        self.info = info\n",
    "        self.dir = dir "
   ]
  },
  {
   "cell_type": "code",
   "execution_count": 4,
   "metadata": {},
   "outputs": [],
   "source": [
    "SeriesInstance = pydicom.uid.generate_uid()\n",
    "\n",
    "def addDCM(DCMorigen,PathFull,ImgName,sizex,sizey,mapa):\n",
    "\n",
    "        arr=np.zeros((sizex,sizey),dtype=np.int16)\n",
    "        for i in range(sizex):\n",
    "            for j in range (sizey):\n",
    "                arr[i,j]=mapa[i,j]\n",
    "        \n",
    "        ds=DCMorigen\n",
    "        #arr=ds.pixel_array\n",
    "        #arr[arr<20]=0\n",
    "        #arr=mapa\n",
    "        #arr=np.array(mapa)\n",
    "        #print(\"Array del mapa 70,159:\",arrMapa[70,159])\n",
    "        #print(arrMapa)\n",
    "        plt.imshow(arr,cmap=plt.cm.bone)\n",
    "        plt.show()\n",
    "        \n",
    "        modificationTime=time.strftime(\"%H%M%S\")\n",
    "        pathFinal=PathFull+\"/\"+ImgName+\".dcm\"#path completo con que se va a guardar cada imagen dicom final\n",
    "        #np_frame1=listofmaps[k]\n",
    "        #ds.Rows=geometry[6] #np_frame1.shape[0]\n",
    "        #ds.Columns=geometry[7] #np_frame1.shape[1]\n",
    "        ds[0x0020,0x0011].value=np.random.randint(200,500)\n",
    "        ds.PhotometricInterpretation=\"MONOCHROME2\"\n",
    "        #ds.SamplesPerPixel=1\n",
    "        #ds.BitsStored=16\n",
    "        #ds.BitsAllocated=16\n",
    "        #ds.HighBit=15\n",
    "        #ds.PixelRepresentation=1\n",
    "        #ds.PixelData=arrMapa.tobytes()\n",
    "        ds.SeriesDescription= 'prueba21' #'MAP'+str(k)\n",
    "        ds.SeriesInstanceUID= SeriesInstance\n",
    "        ds[0x008,0x0031].value=modificationTime\n",
    "        ds[0x008,0x0018].value=ds[0x008,0x0018].value+str(1)\n",
    "        ds[0x008,0x0008].value='SECONDARY'\n",
    "        ds.PixelData=arr.tobytes()\n",
    "        ds.save_as(pathFinal)\n",
    "        print(\"path final:\",pathFinal)"
   ]
  },
  {
   "cell_type": "code",
   "execution_count": 5,
   "metadata": {},
   "outputs": [],
   "source": [
    "def position_ROI(Dcm_im_ROI):\n",
    "    '''\n",
    "    Give the general position of the ROI used to be copy on every image\n",
    "    '''\n",
    "    Dcm_im8 = (Dcm_im_ROI).astype(np.uint8)\n",
    "    Dcm_im8 = cv2.applyColorMap(Dcm_im8,cv2.COLORMAP_BONE)\n",
    "    showCrosshair = False\n",
    "    r = cv2.selectROI(\"Seleccione el ROI a analizar\", Dcm_im8,showCrosshair)\n",
    "    cv2.destroyAllWindows()\n",
    "    # r = top x, top y, bottom x, bottom y\n",
    "    return r"
   ]
  },
  {
   "cell_type": "code",
   "execution_count": 6,
   "metadata": {},
   "outputs": [],
   "source": [
    "def demo_crop_geometry(pcd):\n",
    "    print(\"Demo for manual geometry cropping\")\n",
    "    print(\n",
    "        \"1) Press 'Y' twice to align geometry with negative direction of y-axis\"\n",
    "    )\n",
    "    print(\"2) Press 'K' to lock screen and to switch to selection mode\")\n",
    "    print(\"3) Drag for rectangle selection,\")\n",
    "    print(\"   or use ctrl + left click for polygon selection\")\n",
    "    print(\"4) Press 'C' to get a selected geometry and to save it\")\n",
    "    print(\"5) Press 'F' to switch to freeview mode\")\n",
    "    pcd = pcd\n",
    "    o3d.visualization.draw_geometries_with_editing([pcd])"
   ]
  },
  {
   "cell_type": "code",
   "execution_count": 7,
   "metadata": {},
   "outputs": [],
   "source": [
    "image_list, image_slices, pmesh, coords, img_qtt, countmesh, result, dcm_all, dcm_im_all = [], [], [], [], 0, 0, 0, [], []\n",
    "# Carga las imágenes, genera lista de slice y genera objetos\n",
    "path = tk.Tk()\n",
    "path.withdraw()\n",
    "file_name = filedialog.askopenfilenames()"
   ]
  },
  {
   "cell_type": "code",
   "execution_count": 8,
   "metadata": {},
   "outputs": [],
   "source": [
    "for i in file_name:\n",
    "    Dcm = pydicom.dcmread(i)\n",
    "    # Filtrado de imágenes de magnitud\n",
    "    if str(Dcm[0x2005, 0x116e].value) == 'PCA': \n",
    "        image_list.append('imagen' + str(img_qtt)) # Lista de imágenes\n",
    "        image_slices.append(Dcm[0x2001,0x100a].value)\n",
    "        dir = 0\n",
    "        # Filtrado según componentes\n",
    "        if Dcm[0x2001, 0x101a].value[0]>50 and Dcm[0x2001, 0x101a].value[1]>50 and Dcm[0x2001, 0x101a].value[2]>50: # Imagen neta\n",
    "            dir = 1\n",
    "        elif Dcm[0x2001, 0x101a].value[0]>50 and Dcm[0x2001, 0x101a].value[1]==0 and Dcm[0x2001, 0x101a].value[2]==0: # RL # X\n",
    "            dir = 2\n",
    "        elif Dcm[0x2001, 0x101a].value[0]==0 and Dcm[0x2001, 0x101a].value[1]>50 and Dcm[0x2001, 0x101a].value[2]==0: # AP # Y\n",
    "            dir = 3\n",
    "        elif Dcm[0x2001, 0x101a].value[0]==0 and Dcm[0x2001, 0x101a].value[1]==0 and Dcm[0x2001, 0x101a].value[2]>50: # FH # Z\n",
    "            dir = 4\n",
    "        image_list[img_qtt] = imagen (Dcm[0x2001,0x100a].value, Dcm[0x0018,0x1060].value, np.copy(Dcm.pixel_array), Dcm, dir) # Lista de objetos tipo image\n",
    "        # dcm_all.append(Dcm)\n",
    "        dcm_im_all.append(Dcm.pixel_array)\n",
    "        img_qtt = img_qtt + 1"
   ]
  },
  {
   "cell_type": "code",
   "execution_count": 9,
   "metadata": {},
   "outputs": [],
   "source": [
    "# Ordena los objetos y calcula variables\n",
    "sorted_image_list  = sorted(image_list, key = operator.attrgetter('dir', 'slice', 'time')) \n",
    "imgslctr = Counter(image_slices) # Número de slice : Cantidad de imágenes\n",
    "slice_qtt = max(imgslctr.keys()) # Cantidad de slices\n",
    "sl_n_imgs = int(max(imgslctr.values())/4) # Cantidad de imágenes por Slice\n",
    "img_by_type = int(img_qtt/4)\n",
    "height, width = (image_list[0].img).shape # Tamaño de las imágenes"
   ]
  },
  {
   "cell_type": "code",
   "execution_count": null,
   "metadata": {},
   "outputs": [],
   "source": [
    "print(slice_qtt)"
   ]
  },
  {
   "cell_type": "code",
   "execution_count": 10,
   "metadata": {},
   "outputs": [],
   "source": [
    "# Matrices a trabajar \n",
    "maskmatrix = np.zeros((slice_qtt,height,width), np.uint16)    # Máscara de todos los slice  \n",
    "maskimage = np.zeros((height,width), np.uint16)               # Máscara unitaria\n",
    "maskimageROI = np.zeros((height,width), np.uint64)            # Máscara unitaria para ROI\n",
    "maskimgmatrix = np.zeros((slice_qtt,height,width), np.uint16) # Máscara pos-ROI de todos los slice\n",
    "reconstucted_matrix = np.zeros((height,width), np.uint16)"
   ]
  },
  {
   "cell_type": "code",
   "execution_count": 11,
   "metadata": {},
   "outputs": [],
   "source": [
    "# Genera el Threshold y plasma en un arreglo toda la info (en ese arreglo se va a realizar el ROI)\n",
    "# Verifica que exista info en el slice anterior para eliminar vasos o info no deseada\n",
    "for q in range(slice_qtt): \n",
    "    img_org = sorted_image_list[q * sl_n_imgs].img \n",
    "    prev_img_org = sorted_image_list[(q-1) * sl_n_imgs].img\n",
    "    for j in range(height): \n",
    "        for k in range(width):\n",
    "            if img_org[j,k] <= 80: # 500 para FFE\n",
    "                maskimage[j,k] = 0\n",
    "                maskimageROI[j,k] = maskimageROI[j,k] + 0\n",
    "            else:\n",
    "                if q == 0:\n",
    "                    maskimage[j,k]= 255\n",
    "                    maskimageROI[j,k] = maskimageROI[j,k] + 128\n",
    "                else:\n",
    "                    # Comparacion con el slice anterior (para todos menos para q=0)\n",
    "                    for o in range(3):\n",
    "                        for p in range(3):\n",
    "                            if prev_img_org[j+o-1, k+p-1] == 255:\n",
    "                                result = result + 1\n",
    "                            else:\n",
    "                                result = result\n",
    "                    if result>0:\n",
    "                        maskimage[j+o-1, k+p-1] = 255\n",
    "                        maskimageROI[j+o-1, k+p-1] = maskimageROI[j+o-1, k+p-1] + 128\n",
    "                    else:\n",
    "                        maskimage[j+o-1, k+p-1] = 0\n",
    "                        maskimageROI[j+o-1, k+p-1] = maskimageROI[j+o-1, k+p-1]\n",
    "    \n",
    "# Se realiza el ROI y se elimina la info fuera de él esto es para el slice maximo (me quedaba fuera de rango)\n",
    "    if q == (slice_qtt-1):\n",
    "        utROI = position_ROI(maskimageROI)\n",
    "        for l in range(width):\n",
    "            for m in range(height):\n",
    "                if m>float(utROI[0]) and m<float(utROI[0]+utROI[2]) and l>float(utROI[1]) and l<float(utROI[1]+utROI[3]):\n",
    "                    maskimage[l,m]=maskimage[l,m]\n",
    "                else:\n",
    "                    maskimage[l,m] = 0 \n",
    "    maskimgmatrix[q] = maskimage"
   ]
  },
  {
   "cell_type": "code",
   "execution_count": null,
   "metadata": {},
   "outputs": [],
   "source": [
    "# Matrices a trabajar \n",
    "maskmatrixvmtk = np.zeros((slice_qtt,height,width), np.uint16)    # Máscara de todos los slice  \n",
    "maskimagevmtk = np.zeros((height,width), np.uint16)               # Máscara unitaria\n",
    "maskimageROIvmtk = np.zeros((height,width), np.uint64)            # Máscara unitaria para ROI\n",
    "maskimgmatrixvmtk = np.zeros((slice_qtt,height,width), np.uint16) # Máscara pos-ROI de todos los slice\n",
    "reconstucted_matrixvmtk = np.zeros((height,width), np.uint16)"
   ]
  },
  {
   "cell_type": "code",
   "execution_count": null,
   "metadata": {},
   "outputs": [],
   "source": [
    "# AGREGADO PARA SACAR UNA SOLA FASE 21/4//22\n",
    "# Genera el Threshold y plasma en un arreglo toda la info (en ese arreglo se va a realizar el ROI)\n",
    "# Verifica que exista info en el slice anterior para eliminar vasos o info no deseada\n",
    "for q in range(slice_qtt): \n",
    "#     img_org = sorted_image_list[q * sl_n_imgs].img \n",
    "    \n",
    "# Se realiza el ROI y se elimina la info fuera de él esto es para el slice maximo (me quedaba fuera de rango)\n",
    "    if q == int(slice_qtt-1):\n",
    "        utROIvmtk = position_ROI(maskimageROI)\n",
    "        for l in range(width):\n",
    "            for m in range(height):\n",
    "                if m>float(utROIvmtk[0]) and m<float(utROIvmtk[0]+utROIvmtk[2]) and l>float(utROIvmtk[1]) and l<float(utROIvmtk[1]+utROIvmtk[3]):\n",
    "                    maskimagevmtk[l,m]=sorted_image_list[q* sl_n_imgs].img[l,m]\n",
    "                else:\n",
    "                    maskimagevmtk[l,m] = 0 \n",
    "    maskimgmatrixvmtk[q] = maskimagevmtk"
   ]
  },
  {
   "cell_type": "code",
   "execution_count": null,
   "metadata": {},
   "outputs": [],
   "source": [
    "for q in range(slice_qtt):\n",
    "    for l in range(width):\n",
    "            for m in range(height):\n",
    "                if m>float(utROIvmtk[0]) and m<float(utROIvmtk[0]+utROIvmtk[2]) and l>float(utROIvmtk[1]) and l<float(utROIvmtk[1]+utROIvmtk[3]):\n",
    "                    maskimgmatrixvmtk[q,l,m]=sorted_image_list[q*sl_n_imgs].img[l,m]\n",
    "                else:\n",
    "                    maskimgmatrixvmtk[q,l,m] = 0"
   ]
  },
  {
   "cell_type": "code",
   "execution_count": null,
   "metadata": {},
   "outputs": [],
   "source": [
    "# Se genera la nueva serie dicom\n",
    "# print(sorted_image_list[1].info)\n",
    "\n",
    "for i in range(slice_qtt):\n",
    "    name = str(i)\n",
    "    vAux1=sorted_image_list[i].info #Se busca coordenada de referencia     \n",
    "    path_full=r\"C:\\Users\\mpaul\\Desktop\\FUA-N19\\SEC_IMGS\"\n",
    "    map1 = maskimgmatrixvmtk[i]\n",
    "    prueba = addDCM(DCMorigen= vAux1, PathFull= path_full, ImgName= name, sizex = width, sizey = height, mapa = map1)"
   ]
  },
  {
   "cell_type": "code",
   "execution_count": 12,
   "metadata": {},
   "outputs": [],
   "source": [
    "# hago lo mismo que hacia en las lineas anteriores pero para los demas slices\n",
    "\n",
    "for q in range(slice_qtt):\n",
    "    for l in range(width):\n",
    "            for m in range(height):\n",
    "                if m>float(utROI[0]) and m<float(utROI[0]+utROI[2]) and l>float(utROI[1]) and l<float(utROI[1]+utROI[3]):\n",
    "                    maskimgmatrix[q,l,m]=maskimgmatrix[q,l,m]\n",
    "                else:\n",
    "                    maskimgmatrix[q,l,m] = 0"
   ]
  },
  {
   "cell_type": "code",
   "execution_count": 13,
   "metadata": {},
   "outputs": [],
   "source": [
    "# Se realiza la deteccion de bordes con sobel\n",
    "for q in range(slice_qtt):\n",
    "    maskimageinv = cv2.flip(maskimgmatrix[q],-1)\n",
    "    sobelx = cv2.Sobel(maskimgmatrix[q],-1,1,0,ksize=1) # Image , DDepth = -1 (uint8) would be the result\n",
    "    sobely = cv2.Sobel(maskimgmatrix[q],-1,0,1,ksize=1) # 1 , 0  for dx   and  0 , 1 for dy\n",
    "    sobeldir = sobelx + sobely\n",
    "    sobelxinv = cv2.Sobel(maskimageinv,-1,1,0,ksize=1) \n",
    "    sobelyinv = cv2.Sobel(maskimageinv,-1,0,1,ksize=1)\n",
    "    sobelinv = sobelxinv + sobelyinv \n",
    "    reconstucted_matrix = cv2.flip(sobelinv,-1)\n",
    "    sobel = sobeldir +  reconstucted_matrix\n",
    "    maskmatrix[q] = sobel\n",
    "\n",
    "    # Seleccion de los valores internos a los bordes \n",
    "    for i in range(height):\n",
    "        for j in range (width):\n",
    "            if (j > 1) and (i > 1): # FIJARME DE OPTIMIZARLO\n",
    "                if (maskmatrix[q][i][j] == 0) and (maskmatrix[q][i-1][j] != 0) and (maskmatrix[q][i][j-1] != 0):\n",
    "                    maskmatrix[q][i][j] = 200 # 200 por poner un valor que sea exclusivo de los pixeles internos"
   ]
  },
  {
   "cell_type": "code",
   "execution_count": null,
   "metadata": {},
   "outputs": [],
   "source": [
    "# Matrices a trabajar imagenes filtradas\n",
    "secondarymatrix = np.zeros((slice_qtt,height,width), np.uint16)    # Arreglo de todos los slices  \n",
    "secondaryimage = np.zeros((height,width), np.uint16)               # Imagen unitaria"
   ]
  },
  {
   "cell_type": "code",
   "execution_count": null,
   "metadata": {},
   "outputs": [],
   "source": [
    "# Se obtiene la imagen con la segmentacion limpia\n",
    "imclean, secondary_slices, secondary_counter = [], [], 0\n",
    "\n",
    "for k in range (slice_qtt):\n",
    "    img_org = sorted_image_list[k * sl_n_imgs].img\n",
    "    for l in range (height):\n",
    "        for m in range (width):\n",
    "            if maskmatrix[k][l][m] > 0:\n",
    "                # pixclean = img_org[j, k]\n",
    "                secondaryimage[l,m] = img_org[l, m]\n",
    "                # imclean.append(pixclean)\n",
    "\n",
    "            else:\n",
    "                # pixclean = 0\n",
    "                # imclean.append(pixclean)\n",
    "                secondaryimage[l,m] = 0\n",
    "\n",
    "    secondarymatrix[k] = secondaryimage\n",
    "    \n",
    "    secondary_counter += 1"
   ]
  },
  {
   "cell_type": "code",
   "execution_count": null,
   "metadata": {},
   "outputs": [],
   "source": [
    "plt.imshow(secondarymatrix[20], cmap = plt.cm.bone)\n",
    "plt.show()"
   ]
  },
  {
   "cell_type": "code",
   "execution_count": null,
   "metadata": {},
   "outputs": [],
   "source": [
    "# Se genera la nueva serie dicom\n",
    "# print(sorted_image_list[1].info)\n",
    "\n",
    "for i in range(slice_qtt):\n",
    "    name = str(i)\n",
    "    vAux1=sorted_image_list[i].info #Se busca coordenada de referencia     \n",
    "    path_full=r\"C:\\Users\\mpaul\\Desktop\\FUA-N19\\SEC_IMGS\"\n",
    "    map1 = secondarymatrix[i]\n",
    "    prueba = addDCM(DCMorigen= vAux1, PathFull= path_full, ImgName= name, sizex = width, sizey = height, mapa = map1)"
   ]
  },
  {
   "cell_type": "code",
   "execution_count": 14,
   "metadata": {},
   "outputs": [
    {
     "name": "stdout",
     "output_type": "stream",
     "text": [
      "antes del loop 0\n"
     ]
    }
   ],
   "source": [
    "# Se obtienen las coordenadas limpias de cada uno de los puntos de valor alto post filtro sobel\n",
    "slice_points, slice_cells, countmesh, nodes = [], [], 0, []\n",
    "print(\"antes del loop\", countmesh)\n",
    "for q in range (slice_qtt):\n",
    "    for j in range(height):\n",
    "        for k in range(width):\n",
    "            if k > float(utROI[1]) and k < float(utROI[1] + utROI[3]) and j > float(utROI[0]) and j < float(utROI[0] + utROI[2]): # Ajustar al Roi\n",
    "                if maskmatrix[q][j][k] > 0:\n",
    "                    countmesh += 1\n",
    "                    pclean = [j, k, q]\n",
    "                    pmesh.append(pclean) # Podemos forzar etiquetas o podemos obtener etiquetas por defecto\n",
    "                    coords.extend(pclean)\n",
    "                    slice_points.append(countmesh)\n",
    "\n",
    "                else:\n",
    "                    slice_points.append(-1)\n",
    "\n",
    "    for i in range(len(slice_points)):\n",
    "        if slice_points[i] != -1:\n",
    "            nodes.append(slice_points[i])\n",
    "\n",
    "    # print(nodes[0])\n",
    "    #slice_cells.append(countmesh//4)"
   ]
  },
  {
   "cell_type": "code",
   "execution_count": 2,
   "metadata": {},
   "outputs": [
    {
     "ename": "NameError",
     "evalue": "name 'pmesh' is not defined",
     "output_type": "error",
     "traceback": [
      "\u001b[1;31m---------------------------------------------------------------------------\u001b[0m",
      "\u001b[1;31mNameError\u001b[0m                                 Traceback (most recent call last)",
      "\u001b[1;32m~\\AppData\\Local\\Temp/ipykernel_32564/4240253599.py\u001b[0m in \u001b[0;36m<module>\u001b[1;34m\u001b[0m\n\u001b[0;32m      1\u001b[0m \u001b[1;31m# print(countmesh)\u001b[0m\u001b[1;33m\u001b[0m\u001b[1;33m\u001b[0m\u001b[1;33m\u001b[0m\u001b[0m\n\u001b[1;32m----> 2\u001b[1;33m \u001b[0mprint\u001b[0m\u001b[1;33m(\u001b[0m\u001b[0mpmesh\u001b[0m\u001b[1;33m)\u001b[0m\u001b[1;33m\u001b[0m\u001b[1;33m\u001b[0m\u001b[0m\n\u001b[0m",
      "\u001b[1;31mNameError\u001b[0m: name 'pmesh' is not defined"
     ]
    }
   ],
   "source": [
    "# print(countmesh)\n",
    "print(pmesh)"
   ]
  },
  {
   "cell_type": "code",
   "execution_count": 15,
   "metadata": {},
   "outputs": [],
   "source": [
    "# Generación de arreglo vectorial para cada punto \n",
    "vector_array = np.ndarray((countmesh,3)) # Definir point_qtt\n",
    "counter = 0\n",
    "for q in range(slice_qtt):\n",
    "    for j in range(height): \n",
    "            for k in range(width): \n",
    "                if k > float(utROI[1]) and k < float(utROI[1] + utROI[3]) and j > float(utROI[0]) and j < float(utROI[0] + utROI[2]): # Ajustar al Roi\n",
    "                        if maskmatrix[q][j][k] > 0: \n",
    "                            vector_x = sorted_image_list[((q*sl_n_imgs)+img_by_type*1)].img[j,k]\n",
    "                            vector_y = sorted_image_list[((q*sl_n_imgs)+img_by_type*2)].img[j,k]\n",
    "                            vector_z = sorted_image_list[((q*sl_n_imgs)+img_by_type*3)].img[j,k]\n",
    "                            vector_array[counter] = [vector_x, vector_y , vector_z]\n",
    "                            # coords.extend([vector_x, vector_y , vector_z])\n",
    "                            counter += 1\n",
    "    nodes.append(counter)\n",
    "    # print(nodes[0])"
   ]
  },
  {
   "cell_type": "code",
   "execution_count": null,
   "metadata": {},
   "outputs": [],
   "source": [
    "print(countmesh)"
   ]
  },
  {
   "cell_type": "code",
   "execution_count": 17,
   "metadata": {},
   "outputs": [
    {
     "data": {
      "application/vnd.jupyter.widget-view+json": {
       "model_id": "d0777f81698e41afba735b9218d924f3",
       "version_major": 2,
       "version_minor": 0
      },
      "text/plain": [
       "ViewInteractiveWidget(height=768, layout=Layout(height='auto', width='100%'), width=1024)"
      ]
     },
     "metadata": {},
     "output_type": "display_data"
    }
   ],
   "source": [
    "# ARMO LOS VECTORES EN PYVISTA\n",
    "\n",
    "# scalar_array = [10]*countmesh\n",
    "points = np.asarray(pmesh)\n",
    "point_cloud = pv.PolyData(points)\n",
    "\n",
    "'''raul = point_cloud.reconstruct_surface(nbr_sz = 10)\n",
    "\n",
    "pl = pv.Plotter(shape=(1,2))\n",
    "pl.add_mesh(point_cloud)\n",
    "pl.add_title('Point Cloud of 3D Surface')\n",
    "pl.subplot(0,1)\n",
    "pl.add_mesh(raul, color=True, show_edges=True)\n",
    "pl.add_title('Reconstructed Surface')\n",
    "pl.show()'''\n",
    "\n",
    "point_cloud['vectors'] = vector_array\n",
    "\n",
    "# MESH\n",
    "mesh1 = point_cloud.delaunay_3d(alpha=1.4) \n",
    "# mesh = point_cloud.mesh()\n",
    "\n",
    "plotter = pv.Plotter()\n",
    "# actor = plotter.add_mesh(mesh, color='red')\n",
    "# plotter.show()\n",
    "\n",
    "# plotter.export_obj('my_mesh')\n",
    "\n",
    "'''COMENTADO EL 11/4'''\n",
    "# glyphs = mesh.glyph(orient=\"vectors\", scale=False, factor=0.9) #A LO MEJOR NOS TOQUE CAMBIAR EL FACTOR\n",
    "actor = plotter.add_mesh(mesh1, color='red')\n",
    "plotter.show()\n",
    "\n",
    "# grid = glyphs.cast_to_unstructured_grid()\n"
   ]
  },
  {
   "cell_type": "code",
   "execution_count": null,
   "metadata": {},
   "outputs": [],
   "source": [
    "gmsh.initialize()\n",
    "\n",
    "N = len(nodes)\n",
    "for i in range(N*3):\n",
    "    coords[i] = coords[i]/N\n",
    "\n",
    "# coords = []  # x, y, z coordinates of all the nodes\n",
    "# nodes = []  # tags of corresponding nodes\n",
    "\n",
    "vol = gmsh.model.addDiscreteEntity(3)\n",
    "gmsh.model.mesh.addNodes(3, vol, nodes, coords)\n",
    "\n"
   ]
  },
  {
   "cell_type": "code",
   "execution_count": null,
   "metadata": {},
   "outputs": [],
   "source": [
    "# https://gitlab.onelab.info/gmsh/gmsh/-/issues/1000\n",
    "\n",
    "\n",
    "point_sets = [pmesh]\n",
    "\n",
    "gmsh.initialize()\n",
    "\n",
    "# loop over point sets\n",
    "for i, set in enumerate(point_sets):\n",
    "    # loop over point array rows\n",
    "    for [x, y, z] in set:\n",
    "        gmsh.model.geo.addPoint(x, y, z)\n",
    "\n",
    "    # only synchronize after adding all the points to the model\n",
    "    gmsh.model.geo.synchronize()\n",
    "\n",
    "gmsh.model.mesh.generate(1)\n",
    "gmsh.option.setNumber(\"Mesh.MshFileVersion\", 2.2)\n",
    "gmsh.write(\"model\" + \".msh\")\n",
    "\n",
    "# start with empty model again\n",
    "# gmsh.clear()\n",
    "gmsh.fltk.run()\n",
    "\n",
    "gmsh.finalize()"
   ]
  },
  {
   "cell_type": "code",
   "execution_count": 14,
   "metadata": {},
   "outputs": [],
   "source": []
  },
  {
   "cell_type": "code",
   "execution_count": null,
   "metadata": {},
   "outputs": [],
   "source": [
    "# # Llamese celda a un grupo de puntos con relaciones espaciales y geometricas\n",
    "# import vtk\n",
    "\n",
    "# # Prueba\n",
    "# cell_size = int(4) # Cantidad de puntos por celda\n",
    "# cell_qtt = 8 # Cantidad total de celdas\n",
    "\n",
    "# points = points # Arreglo con las coordenadas de los puntos \n",
    "\n",
    "# cells = []\n",
    "\n",
    "# for k in range((cell_size+1)*slice_qtt):\n",
    "#     if multiplo5(k)==True:\n",
    "#         cells.append(cell_size)\n",
    "#     elif multiplo5(k+1)==True:\n",
    "#         cells.append(cell_size)\n",
    "\n"
   ]
  },
  {
   "cell_type": "code",
   "execution_count": null,
   "metadata": {},
   "outputs": [],
   "source": [
    "'''for i in range(cell_qtt):\n",
    "    for k in range(slice_points):\n",
    "        aux = [cell_size, a, b, c, d] # Indice del punto que necesito # Esto falta\n",
    "        print (aux) \n",
    "    if i == 0:\n",
    "        cells = aux\n",
    "    else:\n",
    "        cells = np.append(cells, aux)\n",
    "\n",
    "# Definición del tipo de celda\n",
    "celltypes = np.empty(cell_qtt, dtype=np.uint8)\n",
    "celltypes[:] = vtk.VTK_TETRA\n",
    "\n",
    "# Punto inicial de cada celda\n",
    "offset = np.empty(cell_qtt, dtype=np.uint8)\n",
    "index = 0\n",
    "for i in range(0, (cell_size*cell_qtt) + 1, cell_size + 1):\n",
    "    offset[index] = i\n",
    "    index += 1\n",
    "\n",
    "# Generación del Unstructured grid\n",
    "meh = pv.UnstructuredGrid(offset, cells, celltypes, points)\n",
    "\n",
    "# Visualizar\n",
    "meh.plot(show_edges=True)'''"
   ]
  },
  {
   "cell_type": "code",
   "execution_count": 18,
   "metadata": {},
   "outputs": [
    {
     "data": {
      "application/vnd.jupyter.widget-view+json": {
       "model_id": "9466d8036fd84926bf287228320a71d4",
       "version_major": 2,
       "version_minor": 0
      },
      "text/plain": [
       "ViewInteractiveWidget(height=768, layout=Layout(height='auto', width='100%'), width=1024)"
      ]
     },
     "metadata": {},
     "output_type": "display_data"
    }
   ],
   "source": [
    "pl = pv.Plotter()\n",
    "pl.add_mesh(mesh1, color=\"grey\", ambient=0.6, opacity=0.1, show_edges=True)\n",
    "# pl.add_mesh(grid,  lighting=False, scalar_bar_args={'title': \"Vector Magnitude\"})\n",
    "pl.add_points(mesh1.points, color='red')\n",
    "pl.show()"
   ]
  }
 ],
 "metadata": {
  "interpreter": {
   "hash": "8ecde5f3e1b2e0c5c19f505cf6dba648bae955fc182c524083ba092f4e70b2bb"
  },
  "kernelspec": {
   "display_name": "Python 3.8.8 64-bit",
   "language": "python",
   "name": "python3"
  },
  "language_info": {
   "codemirror_mode": {
    "name": "ipython",
    "version": 3
   },
   "file_extension": ".py",
   "mimetype": "text/x-python",
   "name": "python",
   "nbconvert_exporter": "python",
   "pygments_lexer": "ipython3",
   "version": "3.8.10"
  },
  "orig_nbformat": 4
 },
 "nbformat": 4,
 "nbformat_minor": 2
}
